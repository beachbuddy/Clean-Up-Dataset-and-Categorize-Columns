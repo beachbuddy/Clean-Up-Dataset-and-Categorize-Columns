{
 "cells": [
  {
   "cell_type": "code",
   "execution_count": 1,
   "id": "expressed-edmonton",
   "metadata": {},
   "outputs": [],
   "source": [
    "import pickle\n",
    "import pandas as pd\n",
    "import yaml\n",
    "from statistics import mean"
   ]
  },
  {
   "cell_type": "code",
   "execution_count": 2,
   "id": "colonial-amplifier",
   "metadata": {},
   "outputs": [],
   "source": [
    "infile=open('C:/Users/Sidney/OneDrive/Documents/LiveProject/AB_NYC_2019.pkl', 'rb')"
   ]
  },
  {
   "cell_type": "code",
   "execution_count": 3,
   "id": "integrated-paris",
   "metadata": {},
   "outputs": [],
   "source": [
    "df=pickle.load(infile)"
   ]
  },
  {
   "cell_type": "code",
   "execution_count": 4,
   "id": "outdoor-twenty",
   "metadata": {},
   "outputs": [
    {
     "data": {
      "text/html": [
       "<div>\n",
       "<style scoped>\n",
       "    .dataframe tbody tr th:only-of-type {\n",
       "        vertical-align: middle;\n",
       "    }\n",
       "\n",
       "    .dataframe tbody tr th {\n",
       "        vertical-align: top;\n",
       "    }\n",
       "\n",
       "    .dataframe thead th {\n",
       "        text-align: right;\n",
       "    }\n",
       "</style>\n",
       "<table border=\"1\" class=\"dataframe\">\n",
       "  <thead>\n",
       "    <tr style=\"text-align: right;\">\n",
       "      <th></th>\n",
       "      <th>id</th>\n",
       "      <th>name</th>\n",
       "      <th>host_id</th>\n",
       "      <th>host_name</th>\n",
       "      <th>neighbourhood_group</th>\n",
       "      <th>neighbourhood</th>\n",
       "      <th>latitude</th>\n",
       "      <th>longitude</th>\n",
       "      <th>room_type</th>\n",
       "      <th>price</th>\n",
       "      <th>minimum_nights</th>\n",
       "      <th>number_of_reviews</th>\n",
       "      <th>last_review</th>\n",
       "      <th>reviews_per_month</th>\n",
       "      <th>calculated_host_listings_count</th>\n",
       "      <th>availability_365</th>\n",
       "    </tr>\n",
       "  </thead>\n",
       "  <tbody>\n",
       "    <tr>\n",
       "      <th>0</th>\n",
       "      <td>2539</td>\n",
       "      <td>Clean &amp; quiet apt home by the park</td>\n",
       "      <td>2787</td>\n",
       "      <td>John</td>\n",
       "      <td>Brooklyn</td>\n",
       "      <td>Kensington</td>\n",
       "      <td>40.64749</td>\n",
       "      <td>-73.97237</td>\n",
       "      <td>Private room</td>\n",
       "      <td>149</td>\n",
       "      <td>1</td>\n",
       "      <td>9</td>\n",
       "      <td>2018-10-19</td>\n",
       "      <td>0.21</td>\n",
       "      <td>6</td>\n",
       "      <td>365</td>\n",
       "    </tr>\n",
       "    <tr>\n",
       "      <th>1</th>\n",
       "      <td>2595</td>\n",
       "      <td>Skylit Midtown Castle</td>\n",
       "      <td>2845</td>\n",
       "      <td>Jennifer</td>\n",
       "      <td>Manhattan</td>\n",
       "      <td>Midtown</td>\n",
       "      <td>40.75362</td>\n",
       "      <td>-73.98377</td>\n",
       "      <td>Entire home/apt</td>\n",
       "      <td>225</td>\n",
       "      <td>1</td>\n",
       "      <td>45</td>\n",
       "      <td>2019-05-21</td>\n",
       "      <td>0.38</td>\n",
       "      <td>2</td>\n",
       "      <td>355</td>\n",
       "    </tr>\n",
       "    <tr>\n",
       "      <th>2</th>\n",
       "      <td>3647</td>\n",
       "      <td>THE VILLAGE OF HARLEM....NEW YORK !</td>\n",
       "      <td>4632</td>\n",
       "      <td>Elisabeth</td>\n",
       "      <td>Manhattan</td>\n",
       "      <td>Harlem</td>\n",
       "      <td>40.80902</td>\n",
       "      <td>-73.94190</td>\n",
       "      <td>Private room</td>\n",
       "      <td>150</td>\n",
       "      <td>3</td>\n",
       "      <td>0</td>\n",
       "      <td>NaN</td>\n",
       "      <td>NaN</td>\n",
       "      <td>1</td>\n",
       "      <td>365</td>\n",
       "    </tr>\n",
       "    <tr>\n",
       "      <th>3</th>\n",
       "      <td>3831</td>\n",
       "      <td>Cozy Entire Floor of Brownstone</td>\n",
       "      <td>4869</td>\n",
       "      <td>LisaRoxanne</td>\n",
       "      <td>Brooklyn</td>\n",
       "      <td>Clinton Hill</td>\n",
       "      <td>40.68514</td>\n",
       "      <td>-73.95976</td>\n",
       "      <td>Entire home/apt</td>\n",
       "      <td>89</td>\n",
       "      <td>1</td>\n",
       "      <td>270</td>\n",
       "      <td>2019-07-05</td>\n",
       "      <td>4.64</td>\n",
       "      <td>1</td>\n",
       "      <td>194</td>\n",
       "    </tr>\n",
       "    <tr>\n",
       "      <th>4</th>\n",
       "      <td>5022</td>\n",
       "      <td>Entire Apt: Spacious Studio/Loft by central park</td>\n",
       "      <td>7192</td>\n",
       "      <td>Laura</td>\n",
       "      <td>Manhattan</td>\n",
       "      <td>East Harlem</td>\n",
       "      <td>40.79851</td>\n",
       "      <td>-73.94399</td>\n",
       "      <td>Entire home/apt</td>\n",
       "      <td>80</td>\n",
       "      <td>10</td>\n",
       "      <td>9</td>\n",
       "      <td>2018-11-19</td>\n",
       "      <td>0.10</td>\n",
       "      <td>1</td>\n",
       "      <td>0</td>\n",
       "    </tr>\n",
       "  </tbody>\n",
       "</table>\n",
       "</div>"
      ],
      "text/plain": [
       "     id                                              name  host_id  \\\n",
       "0  2539                Clean & quiet apt home by the park     2787   \n",
       "1  2595                             Skylit Midtown Castle     2845   \n",
       "2  3647               THE VILLAGE OF HARLEM....NEW YORK !     4632   \n",
       "3  3831                   Cozy Entire Floor of Brownstone     4869   \n",
       "4  5022  Entire Apt: Spacious Studio/Loft by central park     7192   \n",
       "\n",
       "     host_name neighbourhood_group neighbourhood  latitude  longitude  \\\n",
       "0         John            Brooklyn    Kensington  40.64749  -73.97237   \n",
       "1     Jennifer           Manhattan       Midtown  40.75362  -73.98377   \n",
       "2    Elisabeth           Manhattan        Harlem  40.80902  -73.94190   \n",
       "3  LisaRoxanne            Brooklyn  Clinton Hill  40.68514  -73.95976   \n",
       "4        Laura           Manhattan   East Harlem  40.79851  -73.94399   \n",
       "\n",
       "         room_type  price  minimum_nights  number_of_reviews last_review  \\\n",
       "0     Private room    149               1                  9  2018-10-19   \n",
       "1  Entire home/apt    225               1                 45  2019-05-21   \n",
       "2     Private room    150               3                  0         NaN   \n",
       "3  Entire home/apt     89               1                270  2019-07-05   \n",
       "4  Entire home/apt     80              10                  9  2018-11-19   \n",
       "\n",
       "   reviews_per_month  calculated_host_listings_count  availability_365  \n",
       "0               0.21                               6               365  \n",
       "1               0.38                               2               355  \n",
       "2                NaN                               1               365  \n",
       "3               4.64                               1               194  \n",
       "4               0.10                               1                 0  "
      ]
     },
     "execution_count": 4,
     "metadata": {},
     "output_type": "execute_result"
    }
   ],
   "source": [
    "df.head()"
   ]
  },
  {
   "cell_type": "markdown",
   "id": "regional-eating",
   "metadata": {},
   "source": [
    "Read YAML Config File"
   ]
  },
  {
   "cell_type": "code",
   "execution_count": 5,
   "id": "mechanical-moscow",
   "metadata": {},
   "outputs": [],
   "source": [
    "with open('C:/Users/Sidney/LiveProject/AirBnB_config.yml', 'r') as file:\n",
    "    config=yaml.safe_load(file)"
   ]
  },
  {
   "cell_type": "code",
   "execution_count": 6,
   "id": "actual-ontario",
   "metadata": {},
   "outputs": [
    {
     "data": {
      "text/plain": [
       "{'general': {'load_from_scratch': False,\n",
       "  'save_raw_dataframe': False,\n",
       "  'save_transformed_dataframe': False,\n",
       "  'remove_bad_values': True},\n",
       " 'columns': {'categorical': ['neighbourhood_group',\n",
       "   'neighbourhood',\n",
       "   'room_type'],\n",
       "  'continuous': ['minimum_nights',\n",
       "   'price',\n",
       "   'number_of_reviews',\n",
       "   'reviews_per_month',\n",
       "   'calculated_host_listings_count'],\n",
       "  'date': ['last_review'],\n",
       "  'text': ['name', 'host_name'],\n",
       "  'excluded': ['id']},\n",
       " 'bounding_box': {'max_long': -73.70018092,\n",
       "  'max_lat': 40.91617849,\n",
       "  'min_long': -74.25909008,\n",
       "  'min_lat': 40.47739894},\n",
       " 'newark_bounding_box': {'max_long': -74.11278706,\n",
       "  'max_lat': 40.67325015,\n",
       "  'min_long': -74.25132408,\n",
       "  'min_lat': 40.78813864},\n",
       " 'geo_columns': ['latitude', 'longitude'],\n",
       " 'file_names': {'input_csv': 'AB_NYC_2019.csv',\n",
       "  'pickled_input_dataframe': 'AB_NYC_2019_output_aug20_2020.pkl',\n",
       "  'pickled_output_dataframe': 'AB_NYC_2019_output_aug20_2020.pkl'}}"
      ]
     },
     "execution_count": 6,
     "metadata": {},
     "output_type": "execute_result"
    }
   ],
   "source": [
    "config"
   ]
  },
  {
   "cell_type": "code",
   "execution_count": 7,
   "id": "canadian-music",
   "metadata": {},
   "outputs": [
    {
     "data": {
      "text/plain": [
       "dict_keys(['general', 'columns', 'bounding_box', 'newark_bounding_box', 'geo_columns', 'file_names'])"
      ]
     },
     "execution_count": 7,
     "metadata": {},
     "output_type": "execute_result"
    }
   ],
   "source": [
    "config.keys()"
   ]
  },
  {
   "cell_type": "code",
   "execution_count": 8,
   "id": "hidden-prototype",
   "metadata": {},
   "outputs": [],
   "source": [
    "z=config.get('columns')\n",
    "continuous=z.get('continuous')\n",
    "categorical=z.get('categorical')\n",
    "text=z.get('text')\n",
    "geo_columns=config.get('geo_columns')\n",
    "bounding_box=config.get('bounding_box')"
   ]
  },
  {
   "cell_type": "code",
   "execution_count": 9,
   "id": "recreational-intensity",
   "metadata": {},
   "outputs": [
    {
     "data": {
      "text/plain": [
       "{'max_long': -73.70018092,\n",
       " 'max_lat': 40.91617849,\n",
       " 'min_long': -74.25909008,\n",
       " 'min_lat': 40.47739894}"
      ]
     },
     "execution_count": 9,
     "metadata": {},
     "output_type": "execute_result"
    }
   ],
   "source": [
    "bounding_box\n",
    "#bounding box is a dictionary"
   ]
  },
  {
   "cell_type": "code",
   "execution_count": 10,
   "id": "refined-ebony",
   "metadata": {},
   "outputs": [],
   "source": [
    "max_long=bounding_box.get('max_long')\n",
    "max_lat=bounding_box.get('max_lat')\n",
    "min_long=bounding_box.get('min_long')\n",
    "min_lat=bounding_box.get('min_lat')"
   ]
  },
  {
   "cell_type": "code",
   "execution_count": 11,
   "id": "fundamental-subcommittee",
   "metadata": {},
   "outputs": [
    {
     "data": {
      "text/plain": [
       "['latitude', 'longitude']"
      ]
     },
     "execution_count": 11,
     "metadata": {},
     "output_type": "execute_result"
    }
   ],
   "source": [
    "geo_columns"
   ]
  },
  {
   "cell_type": "code",
   "execution_count": 12,
   "id": "academic-scott",
   "metadata": {},
   "outputs": [
    {
     "data": {
      "text/plain": [
       "['minimum_nights',\n",
       " 'price',\n",
       " 'number_of_reviews',\n",
       " 'reviews_per_month',\n",
       " 'calculated_host_listings_count']"
      ]
     },
     "execution_count": 12,
     "metadata": {},
     "output_type": "execute_result"
    }
   ],
   "source": [
    "continuous"
   ]
  },
  {
   "cell_type": "code",
   "execution_count": 13,
   "id": "lasting-basement",
   "metadata": {},
   "outputs": [
    {
     "data": {
      "text/plain": [
       "['neighbourhood_group', 'neighbourhood', 'room_type']"
      ]
     },
     "execution_count": 13,
     "metadata": {},
     "output_type": "execute_result"
    }
   ],
   "source": [
    "categorical"
   ]
  },
  {
   "cell_type": "code",
   "execution_count": 14,
   "id": "ancient-ancient",
   "metadata": {},
   "outputs": [
    {
     "data": {
      "text/plain": [
       "Manhattan        21661\n",
       "Brooklyn         20104\n",
       "Queens            5666\n",
       "Bronx             1091\n",
       "Staten Island      373\n",
       "Name: neighbourhood_group, dtype: int64"
      ]
     },
     "execution_count": 14,
     "metadata": {},
     "output_type": "execute_result"
    }
   ],
   "source": [
    "df['neighbourhood_group'].value_counts()"
   ]
  },
  {
   "cell_type": "code",
   "execution_count": 15,
   "id": "young-blair",
   "metadata": {},
   "outputs": [],
   "source": [
    "neighbourhood_group_list=list(df['neighbourhood_group'].value_counts().index)"
   ]
  },
  {
   "cell_type": "code",
   "execution_count": 16,
   "id": "angry-listing",
   "metadata": {},
   "outputs": [
    {
     "data": {
      "text/plain": [
       "['Manhattan', 'Brooklyn', 'Queens', 'Bronx', 'Staten Island']"
      ]
     },
     "execution_count": 16,
     "metadata": {},
     "output_type": "execute_result"
    }
   ],
   "source": [
    "neighbourhood_group_list"
   ]
  },
  {
   "cell_type": "code",
   "execution_count": 17,
   "id": "saved-difficulty",
   "metadata": {},
   "outputs": [
    {
     "data": {
      "text/plain": [
       "Entire home/apt    25409\n",
       "Private room       22326\n",
       "Shared room         1160\n",
       "Name: room_type, dtype: int64"
      ]
     },
     "execution_count": 17,
     "metadata": {},
     "output_type": "execute_result"
    }
   ],
   "source": [
    "df['room_type'].value_counts()"
   ]
  },
  {
   "cell_type": "code",
   "execution_count": 18,
   "id": "informed-detail",
   "metadata": {},
   "outputs": [],
   "source": [
    "room_type_list=list(df['room_type'].value_counts().index)"
   ]
  },
  {
   "cell_type": "code",
   "execution_count": 19,
   "id": "expanded-discipline",
   "metadata": {},
   "outputs": [
    {
     "data": {
      "text/plain": [
       "['Entire home/apt', 'Private room', 'Shared room']"
      ]
     },
     "execution_count": 19,
     "metadata": {},
     "output_type": "execute_result"
    }
   ],
   "source": [
    "room_type_list"
   ]
  },
  {
   "cell_type": "code",
   "execution_count": 20,
   "id": "matched-netherlands",
   "metadata": {},
   "outputs": [
    {
     "name": "stdout",
     "output_type": "stream",
     "text": [
      "\n",
      "minimum_nights\n",
      "count    48895.000000\n",
      "mean         7.029962\n",
      "std         20.510550\n",
      "min          1.000000\n",
      "25%          1.000000\n",
      "50%          3.000000\n",
      "75%          5.000000\n",
      "max       1250.000000\n",
      "Name: minimum_nights, dtype: float64\n",
      "\n",
      "price\n",
      "count    48895.000000\n",
      "mean       152.720687\n",
      "std        240.154170\n",
      "min          0.000000\n",
      "25%         69.000000\n",
      "50%        106.000000\n",
      "75%        175.000000\n",
      "max      10000.000000\n",
      "Name: price, dtype: float64\n",
      "\n",
      "number_of_reviews\n",
      "count    48895.000000\n",
      "mean        23.274466\n",
      "std         44.550582\n",
      "min          0.000000\n",
      "25%          1.000000\n",
      "50%          5.000000\n",
      "75%         24.000000\n",
      "max        629.000000\n",
      "Name: number_of_reviews, dtype: float64\n",
      "\n",
      "reviews_per_month\n",
      "count    38843.000000\n",
      "mean         1.373221\n",
      "std          1.680442\n",
      "min          0.010000\n",
      "25%          0.190000\n",
      "50%          0.720000\n",
      "75%          2.020000\n",
      "max         58.500000\n",
      "Name: reviews_per_month, dtype: float64\n",
      "\n",
      "calculated_host_listings_count\n",
      "count    48895.000000\n",
      "mean         7.143982\n",
      "std         32.952519\n",
      "min          1.000000\n",
      "25%          1.000000\n",
      "50%          1.000000\n",
      "75%          2.000000\n",
      "max        327.000000\n",
      "Name: calculated_host_listings_count, dtype: float64\n"
     ]
    }
   ],
   "source": [
    "for i in range(len(continuous)):\n",
    "    print()\n",
    "    print(continuous[i])\n",
    "    print(df[continuous[i]].describe())"
   ]
  },
  {
   "cell_type": "markdown",
   "id": "existing-monitoring",
   "metadata": {},
   "source": [
    "Reviews per month has 10,052 null values. \n",
    "Zero will be assigned to the null values."
   ]
  },
  {
   "cell_type": "code",
   "execution_count": 21,
   "id": "alert-temple",
   "metadata": {},
   "outputs": [
    {
     "data": {
      "text/plain": [
       "['name', 'host_name']"
      ]
     },
     "execution_count": 21,
     "metadata": {},
     "output_type": "execute_result"
    }
   ],
   "source": [
    "text"
   ]
  },
  {
   "cell_type": "markdown",
   "id": "alive-veteran",
   "metadata": {},
   "source": [
    "name has 16 null values and host_name has 21 null values from previous lesson\n",
    "The plan is to replace the null values in both columns with the text 'unknown'"
   ]
  },
  {
   "cell_type": "code",
   "execution_count": 22,
   "id": "precise-handbook",
   "metadata": {},
   "outputs": [],
   "source": [
    "Headings=list(df)\n",
    "#list(df) is a nice list of all the column headings"
   ]
  },
  {
   "cell_type": "code",
   "execution_count": 23,
   "id": "direct-twenty",
   "metadata": {},
   "outputs": [
    {
     "data": {
      "text/plain": [
       "['id',\n",
       " 'name',\n",
       " 'host_id',\n",
       " 'host_name',\n",
       " 'neighbourhood_group',\n",
       " 'neighbourhood',\n",
       " 'latitude',\n",
       " 'longitude',\n",
       " 'room_type',\n",
       " 'price',\n",
       " 'minimum_nights',\n",
       " 'number_of_reviews',\n",
       " 'last_review',\n",
       " 'reviews_per_month',\n",
       " 'calculated_host_listings_count',\n",
       " 'availability_365']"
      ]
     },
     "execution_count": 23,
     "metadata": {},
     "output_type": "execute_result"
    }
   ],
   "source": [
    "Headings"
   ]
  },
  {
   "cell_type": "code",
   "execution_count": 24,
   "id": "common-arbor",
   "metadata": {},
   "outputs": [],
   "source": [
    "#replace invalid continuous data\n",
    "def replace_invalid_continuous (Col_Name,Col_List):\n",
    "    for j in range(len(Col_List)):\n",
    "        if Col_List[j] < 0:\n",
    "            df[Col_Name]=df[Col_Name].replace([Col_List[j]], mean(Col_List))"
   ]
  },
  {
   "cell_type": "code",
   "execution_count": 25,
   "id": "planned-contributor",
   "metadata": {},
   "outputs": [],
   "source": [
    "#replace invalid categorical data\n",
    "def replace_invalid_categorical (Col_Name,Col_List, Good_List):\n",
    "    for j in range(len(Col_List)):\n",
    "        if (Col_List[j] not in Good_List):\n",
    "            df[Col_Name]=df[Col_Name].replace([Col_List[j]], 'UNK')"
   ]
  },
  {
   "cell_type": "code",
   "execution_count": 26,
   "id": "geological-server",
   "metadata": {},
   "outputs": [],
   "source": [
    "#delete row if not in New York\n",
    "def delete_if_not_range (Col_List, min_range, max_range):\n",
    "    for j in range(len(Col_List)):\n",
    "        if (Col_List[j]>max_range or Col_List[j]<min_range):\n",
    "            df.drop(df.index[j])"
   ]
  },
  {
   "cell_type": "code",
   "execution_count": 27,
   "id": "spatial-energy",
   "metadata": {},
   "outputs": [],
   "source": [
    "for i in range(len(Headings)):\n",
    "    \n",
    "    if (Headings[i] in text):\n",
    "        df[Headings[i]].fillna('unknown', inplace=True)\n",
    "        \n",
    "    if (Headings[i]=='reviews_per_month'):\n",
    "        df[Headings[i]].fillna(0, inplace=True)\n",
    "        \n",
    "    if (Headings[i] in continuous):\n",
    "        Col_List=list(df[Headings[i]])\n",
    "        replace_invalid_continuous(Headings[i],Col_List)\n",
    "                \n",
    "    if (Headings[i] in categorical and Headings[i] != 'neighbourhood'):\n",
    "        Col_List=list(df[Headings[i]])\n",
    "        \n",
    "        if (Headings[i]=='neighbourhood_group'):\n",
    "            Good_List=neighbourhood_group_list\n",
    "            replace_invalid_categorical(Headings[i],Col_List,Good_List)\n",
    "        \n",
    "        if (Headings[i]=='room_type'):\n",
    "            Good_List=room_type_list\n",
    "            replace_invalid_categorical(Headings[i],Col_List,Good_List)\n",
    "\n",
    "    if (Headings[i] in geo_columns):\n",
    "        Col_List=list(df[Headings[i]])\n",
    "        \n",
    "        if (Headings[i]=='latitude'):\n",
    "            delete_if_not_range(Col_List, min_lat, max_lat)\n",
    "            \n",
    "        if (Headings[i]=='longtitude'):\n",
    "            delete_if_not_range(Col_List, min_long, max_long)\n",
    "            \n",
    "            "
   ]
  },
  {
   "cell_type": "markdown",
   "id": "mexican-zimbabwe",
   "metadata": {},
   "source": [
    "Save dataframe as a pickle file"
   ]
  },
  {
   "cell_type": "code",
   "execution_count": 28,
   "id": "hidden-singing",
   "metadata": {},
   "outputs": [],
   "source": [
    "outfile=open('C:/Users/Sidney/OneDrive/Documents/LiveProject/AB_NYC_2021.pkl', 'wb')"
   ]
  },
  {
   "cell_type": "code",
   "execution_count": 29,
   "id": "valuable-huntington",
   "metadata": {},
   "outputs": [],
   "source": [
    "pickle.dump(df,outfile)"
   ]
  },
  {
   "cell_type": "code",
   "execution_count": null,
   "id": "recovered-spirit",
   "metadata": {},
   "outputs": [],
   "source": []
  }
 ],
 "metadata": {
  "kernelspec": {
   "display_name": "Python 3",
   "language": "python",
   "name": "python3"
  },
  "language_info": {
   "codemirror_mode": {
    "name": "ipython",
    "version": 3
   },
   "file_extension": ".py",
   "mimetype": "text/x-python",
   "name": "python",
   "nbconvert_exporter": "python",
   "pygments_lexer": "ipython3",
   "version": "3.8.8"
  }
 },
 "nbformat": 4,
 "nbformat_minor": 5
}
